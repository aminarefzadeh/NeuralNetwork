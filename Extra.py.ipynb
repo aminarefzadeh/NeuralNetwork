{
 "cells": [
  {
   "cell_type": "code",
   "execution_count": 2,
   "metadata": {},
   "outputs": [
    {
     "name": "stderr",
     "output_type": "stream",
     "text": [
      "In /home/amin/.local/lib/python3.7/site-packages/matplotlib/mpl-data/stylelib/_classic_test.mplstyle: \n",
      "The text.latex.preview rcparam was deprecated in Matplotlib 3.3 and will be removed two minor releases later.\n",
      "In /home/amin/.local/lib/python3.7/site-packages/matplotlib/mpl-data/stylelib/_classic_test.mplstyle: \n",
      "The mathtext.fallback_to_cm rcparam was deprecated in Matplotlib 3.3 and will be removed two minor releases later.\n",
      "In /home/amin/.local/lib/python3.7/site-packages/matplotlib/mpl-data/stylelib/_classic_test.mplstyle: Support for setting the 'mathtext.fallback_to_cm' rcParam is deprecated since 3.3 and will be removed two minor releases later; use 'mathtext.fallback : 'cm' instead.\n",
      "In /home/amin/.local/lib/python3.7/site-packages/matplotlib/mpl-data/stylelib/_classic_test.mplstyle: \n",
      "The validate_bool_maybe_none function was deprecated in Matplotlib 3.3 and will be removed two minor releases later.\n",
      "In /home/amin/.local/lib/python3.7/site-packages/matplotlib/mpl-data/stylelib/_classic_test.mplstyle: \n",
      "The savefig.jpeg_quality rcparam was deprecated in Matplotlib 3.3 and will be removed two minor releases later.\n",
      "In /home/amin/.local/lib/python3.7/site-packages/matplotlib/mpl-data/stylelib/_classic_test.mplstyle: \n",
      "The keymap.all_axes rcparam was deprecated in Matplotlib 3.3 and will be removed two minor releases later.\n",
      "In /home/amin/.local/lib/python3.7/site-packages/matplotlib/mpl-data/stylelib/_classic_test.mplstyle: \n",
      "The animation.avconv_path rcparam was deprecated in Matplotlib 3.3 and will be removed two minor releases later.\n",
      "In /home/amin/.local/lib/python3.7/site-packages/matplotlib/mpl-data/stylelib/_classic_test.mplstyle: \n",
      "The animation.avconv_args rcparam was deprecated in Matplotlib 3.3 and will be removed two minor releases later.\n"
     ]
    }
   ],
   "source": [
    "import h5py\n",
    "import numpy as np\n",
    "import matplotlib.pyplot as plt"
   ]
  },
  {
   "cell_type": "code",
   "execution_count": 3,
   "metadata": {},
   "outputs": [],
   "source": [
    "\n",
    "f = h5py.File('Dataset/train_catvnoncat.h5', 'r')\n",
    "\n",
    "classes = f['list_classes'][()]\n",
    "train_set_x = f['train_set_x'][()] / 255  # normalizing\n",
    "train_set_y = f['train_set_y'][()]\n",
    "\n",
    "f.close()\n",
    "\n",
    "f = h5py.File('Dataset/test_catvnoncat.h5', 'r')\n",
    "\n",
    "test_set_x = f['test_set_x'][()] / 255    # normalizing\n",
    "test_set_y = f['test_set_y'][()]\n",
    "\n",
    "f.close()"
   ]
  },
  {
   "cell_type": "code",
   "execution_count": 4,
   "metadata": {},
   "outputs": [],
   "source": [
    "def print_metrics(y, predict_y):\n",
    "    test_accuracy = 1 - (np.abs(y - predict_y).sum() / np.abs(y - predict_y).size)\n",
    "\n",
    "    cat1 = set(np.where(y == 1)[0])\n",
    "    cat1_predict = set(np.where(predict_y == 1)[0])\n",
    "\n",
    "    test_recall_cat1 = 1 - (len(cat1.difference(cat1_predict)) / len(cat1))\n",
    "    test_precision_cat1 = 1 - (len(cat1_predict.difference(cat1)) / len(cat1_predict)) if len(cat1_predict) else 0\n",
    "\n",
    "    cat0 = set(np.where(y == 0)[0])\n",
    "    cat0_predict = set(np.where(predict_y == 0)[0])\n",
    "\n",
    "    test_recall_cat0 = 1 - (len(cat0.difference(cat0_predict)) / len(cat0))\n",
    "    test_precision_cat0 = 1 - (len(cat0_predict.difference(cat0)) / len(cat0_predict)) if len(cat0_predict) else 0\n",
    "\n",
    "    print(f'accuracy: {test_accuracy*100}%')\n",
    "    print(f'cat0 --> recall: {test_recall_cat0 * 100}%  precision: {test_precision_cat0 * 100}%')\n",
    "    print(f'cat1 --> recall: {test_recall_cat1 * 100}%  precision: {test_precision_cat1 * 100}%')"
   ]
  },
  {
   "cell_type": "markdown",
   "metadata": {},
   "source": [
    "## رگرسیون لاجستیک"
   ]
  },
  {
   "cell_type": "code",
   "execution_count": 5,
   "metadata": {},
   "outputs": [],
   "source": [
    "class LogisticRegression:\n",
    "\n",
    "    def __init__(self):\n",
    "        self.param = None\n",
    "        self.last_grad = None\n",
    "        self.last_cost = None\n",
    "\n",
    "    @staticmethod\n",
    "    def sigmoid(x):\n",
    "        return 1 / (1 + np.exp(-x))\n",
    "\n",
    "    def internal_mult(self, x):\n",
    "        return np.dot(x, self.param)\n",
    "\n",
    "    def probability(self, x):\n",
    "        return self.sigmoid(self.internal_mult(x))\n",
    "\n",
    "    def predict(self, x):\n",
    "        reshaped_x = self.reshape_x(x)\n",
    "        return np.int0(np.greater(self.probability(reshaped_x), 0.5))\n",
    "\n",
    "    def cost_function(self, x, y):\n",
    "        # total_cost = -1 * (y * np.log(self.probability(x)) + (1 - y) * np.log(1 - self.probability(x)))\n",
    "        total_cost = (y - self.probability(x))**2\n",
    "        return total_cost\n",
    "\n",
    "    def gradient(self, x, y):\n",
    "        return x * (y - self.probability(x))\n",
    "\n",
    "    def initial_param(self, x):\n",
    "        input_num = int(x.size / x.shape[0])\n",
    "        self.param = np.random.rand(input_num) * 2 - 1\n",
    "        \n",
    "    def fit_sample(self, sample, learning_rate):\n",
    "        x = sample[:-1]\n",
    "        y = sample[-1]\n",
    "        self.compute_gradient(x, y)\n",
    "        self.param += learning_rate * self.last_grad\n",
    "        return self.last_cost\n",
    "    \n",
    "    def fit_in_iter(self, iter_num, x, y, learning_rate):\n",
    "        reshaped_x = self.reshape_x(x)\n",
    "        indexes = np.arange(reshaped_x.shape[0])\n",
    "        np.random.shuffle(indexes)\n",
    "        samples = np.zeros((reshaped_x.shape[0], reshaped_x.shape[1] + 1))\n",
    "        samples[:, :-1] = reshaped_x[indexes]\n",
    "        samples[:, -1] = y[indexes]\n",
    "        costs = np.apply_along_axis(self.fit_sample, 1, samples, learning_rate)\n",
    "        print(f'iter {iter_num}  loss {np.sum(costs)}')\n",
    "                \n",
    "    def fit(self, x, y, learning_rate=0.1, iter_num=10):\n",
    "        np.random.seed(1)\n",
    "        self.initial_param(x)\n",
    "        vf = np.vectorize(self.fit_in_iter, excluded=['x', 'y'])\n",
    "        vf(iter_num=np.arange(iter_num - 1), x=x, y=y, learning_rate=learning_rate)\n",
    "\n",
    "    def compute_gradient(self, x, y):\n",
    "        self.last_cost = self.cost_function(x, y)\n",
    "        self.last_grad = self.gradient(x, y)\n",
    "\n",
    "    @staticmethod\n",
    "    def reshape_x(x):\n",
    "        first_dim = x.shape[0]\n",
    "        other_dim = int(x.size / first_dim)\n",
    "        return np.reshape(x, (first_dim, other_dim))"
   ]
  },
  {
   "cell_type": "markdown",
   "metadata": {},
   "source": [
    "پارامتر هامون رو داخل اتربیوت پارام نگه میداریم که در هنگام پردیکت کردن میایم این وزن ها رو ضرب داخلی میکنیم در ورودی و در انتها از خروجی سیگمویت میگیریم و میشه خروجی مون که یه عدد بین صفر و یکه بزرگتر از نیم یعنی کت ۱ و کوچیکتر یعنی کت ۰\n",
    "\n",
    "در ترین هم در طول چند ایتریشن همه ی داده های مون رو یکی یکی ترین میکنیم، اینجوری که گرادیانت رو حساب میکنیم توسط تابعی که گذاشتیم و هر بار پارامتر هامون رو به علاوه ی گراد میکنیم تا اینجوری لاس رو بتونیم کم و کمتر کنیم"
   ]
  },
  {
   "cell_type": "code",
   "execution_count": 103,
   "metadata": {},
   "outputs": [
    {
     "name": "stdout",
     "output_type": "stream",
     "text": [
      "iter 0  loss 92.17587247495595\n",
      "iter 0  loss 80.37412506135985\n",
      "iter 1  loss 69.54867686863483\n",
      "iter 2  loss 67.27969068495716\n",
      "iter 3  loss 63.30898273713774\n",
      "iter 4  loss 54.96653803404797\n",
      "iter 5  loss 66.20807143989\n",
      "iter 6  loss 54.42723119502702\n",
      "iter 7  loss 47.04626913947441\n",
      "iter 8  loss 49.60677917724202\n",
      "iter 9  loss 50.464158203038025\n",
      "iter 10  loss 41.61169595699018\n",
      "iter 11  loss 46.942061671956324\n",
      "iter 12  loss 50.65393268751094\n",
      "iter 13  loss 37.49774669839674\n",
      "iter 14  loss 21.68720694456993\n",
      "iter 15  loss 29.807267568326367\n",
      "iter 16  loss 34.43690479132993\n",
      "iter 17  loss 32.936340648587255\n",
      "iter 18  loss 26.26248710484952\n"
     ]
    }
   ],
   "source": [
    "lr = LogisticRegression()\n",
    "lr.fit(train_set_x, train_set_y, iter_num=20, learning_rate=0.05)"
   ]
  },
  {
   "cell_type": "markdown",
   "metadata": {},
   "source": [
    "لاس فانکشنی که ما اینجا استفاده کردیم توان دو تفاوت بین کتگوری واقعی و خروجی مدله\n",
    "\n",
    "در هر ایتریشن کل داده های سمپل به صورت رندوم شافل میشه و گرادیانت اش حساب و وزن ها آپدیت میشن\n",
    "\n",
    "همون طور که مشاهده میشه در طول ایتریشن ها لاس مون داره پایین میاد در ابتدا ۹۲ بوده ولی در انتهای کار ترین به ۲۶ رسیده که به این معنیه مدلمون به خوبی گرادیانت رو حساب کرده و وزن رو ها رو داره به خوبی آپدیت میکنه\n",
    "\n",
    "در طول ایتریشن های مختلف گاهی لاس بالا و پایین میشه اما روند کلیش نزولیه، دلیل این اتفاق در اینجا شافل کردن سمپل هاست \n",
    "\n"
   ]
  },
  {
   "cell_type": "code",
   "execution_count": 104,
   "metadata": {},
   "outputs": [
    {
     "name": "stdout",
     "output_type": "stream",
     "text": [
      "accuracy: 95.69377990430623%\n",
      "cat0 --> recall: 94.16058394160584%  precision: 99.23076923076923%\n",
      "cat1 --> recall: 98.61111111111111%  precision: 89.87341772151899%\n",
      "accuracy: 74.0%\n",
      "cat0 --> recall: 64.70588235294117%  precision: 61.111111111111114%\n",
      "cat1 --> recall: 78.78787878787878%  precision: 81.25%\n"
     ]
    }
   ],
   "source": [
    "print_metrics(train_set_y, lr.predict(train_set_x))\n",
    "print_metrics(test_set_y, lr.predict(test_set_x))"
   ]
  },
  {
   "cell_type": "markdown",
   "metadata": {},
   "source": [
    "اکورسی به معنای تعداد تخمین های درست مدل به تعداد کل تخمین هاست و یک معیار کلی برای مدلمونه\n",
    "\n",
    "ریکال برای هر کتگوری تعریف میشه و به این معناست که چند درصد از داده هایی که واقعا اون کتگوری بودن رو ما درست تشخیص دادیم\n",
    "\n",
    "پرسیژن هم به ازای هر کتگوری تعریف میشه و بیان میکنه چند درصد از سمپل هایی که ما اون کتگوری رو براشون پردیکت کردیم واقعا همون کتگوری بودن\n",
    "\n",
    "مقادیر اکورسی کلی مدل، ریکال و پرسیژن برای هر کدوم از کتگوری ها برای داده های تست و ترین به صورت جدا در بالا نشون داده شده "
   ]
  },
  {
   "cell_type": "markdown",
   "metadata": {},
   "source": [
    "## شبکه عصبی"
   ]
  },
  {
   "cell_type": "code",
   "execution_count": 6,
   "metadata": {},
   "outputs": [],
   "source": [
    "class NeuralNetwork:\n",
    "    def __init__(self, in_num, layer1, layer2, layer3, layer4):\n",
    "        np.random.seed(2)\n",
    "        self.layer1 = {'param': self.initial_layer_param(in_num, layer1),\n",
    "                       'output': None,\n",
    "                       'error': None}\n",
    "        self.layer2 = {'param': self.initial_layer_param(layer1, layer2),\n",
    "                       'output': None,\n",
    "                       'error': None}\n",
    "        self.layer3 = {'param': self.initial_layer_param(layer2, layer3),\n",
    "                       'output': None,\n",
    "                       'error': None}\n",
    "        self.layer4 = {'param': self.initial_layer_param(layer3, layer4),\n",
    "                       'output': None,\n",
    "                       'error': None}\n",
    "        self.layer5 = {'param': self.initial_layer_param(layer4, 2),\n",
    "                       'output': None,\n",
    "                       'error': None}\n",
    "        self.input = None\n",
    "        self.expected = None\n",
    "\n",
    "    @staticmethod\n",
    "    def initial_layer_param(in_num, out_num):\n",
    "        return np.random.rand(out_num, in_num + 1) * 2 - 1  # better without normalization\n",
    "\n",
    "    @staticmethod\n",
    "    def sigmoid(x):\n",
    "        return 1 / (1 + np.exp(-x))\n",
    "\n",
    "    @staticmethod\n",
    "    def internal_mult(x, param):\n",
    "        result = np.dot(param[:, :-1], x) + param[:, -1]    # better without bias\n",
    "        return result\n",
    "\n",
    "    @staticmethod\n",
    "    def output_layer(x, param):\n",
    "        result = NeuralNetwork.sigmoid(NeuralNetwork.internal_mult(x, param))\n",
    "        return result\n",
    "\n",
    "    def forward_propagate(self):\n",
    "        self.layer1['output'] = self.output_layer(self.input, self.layer1['param'])\n",
    "        self.layer2['output'] = self.output_layer(self.layer1['output'], self.layer2['param'])\n",
    "        self.layer3['output'] = self.output_layer(self.layer2['output'], self.layer3['param'])\n",
    "        self.layer4['output'] = self.output_layer(self.layer3['output'], self.layer4['param'])\n",
    "        self.layer5['output'] = self.output_layer(self.layer4['output'], self.layer5['param'])\n",
    "        return self.layer5['output']\n",
    "\n",
    "    @staticmethod\n",
    "    def transfer_derivative(layer_output):\n",
    "        transfer_derivative = layer_output * (1-layer_output)\n",
    "        return transfer_derivative\n",
    "\n",
    "    def backward_propagate(self):\n",
    "        self.layer5['error'] = (self.expected - self.layer5['output']) * self.transfer_derivative(self.layer5['output'])\n",
    "        self.layer4['error'] = np.dot(self.layer5['error'], self.layer5['param'][:, :-1]) * self.transfer_derivative(\n",
    "            self.layer4['output'])\n",
    "        self.layer3['error'] = np.dot(self.layer4['error'], self.layer4['param'][:, :-1]) * self.transfer_derivative(\n",
    "            self.layer3['output'])\n",
    "        self.layer2['error'] = np.dot(self.layer3['error'], self.layer3['param'][:, :-1]) * self.transfer_derivative(\n",
    "            self.layer2['output'])\n",
    "        self.layer1['error'] = np.dot(self.layer2['error'], self.layer2['param'][:, :-1]) * self.transfer_derivative(\n",
    "            self.layer1['output'])\n",
    "\n",
    "    def update_param(self, learning_rate):\n",
    "        def mult_array(neuron_error, inputs):\n",
    "            return neuron_error * inputs\n",
    "        vf = np.vectorize(mult_array, excluded=['inputs'], otypes=[np.ndarray])\n",
    "\n",
    "        layer1_delta = np.vstack(vf(neuron_error=self.layer1['error'], inputs=self.input)) * learning_rate\n",
    "        self.layer1['param'][:, :-1] += layer1_delta\n",
    "        self.layer1['param'][:, -1] += learning_rate * self.layer1['error']   # updating bias\n",
    "\n",
    "        layer2_delta = np.vstack(vf(neuron_error=self.layer2['error'], inputs=self.layer1['output'])) * learning_rate\n",
    "        self.layer2['param'][:, :-1] += layer2_delta\n",
    "        self.layer2['param'][:, -1] += learning_rate * self.layer2['error']  # updating bias\n",
    "\n",
    "        layer3_delta = np.vstack(vf(neuron_error=self.layer3['error'], inputs=self.layer2['output'])) * learning_rate\n",
    "        self.layer3['param'][:, :-1] += layer3_delta\n",
    "        self.layer3['param'][:, -1] += learning_rate * self.layer3['error']  # updating bias\n",
    "\n",
    "        layer4_delta = np.vstack(vf(neuron_error=self.layer4['error'], inputs=self.layer3['output'])) * learning_rate\n",
    "        self.layer4['param'][:, :-1] += layer4_delta\n",
    "        self.layer4['param'][:, -1] += learning_rate * self.layer4['error']  # updating bias\n",
    "\n",
    "        layer5_delta = np.vstack(vf(neuron_error=self.layer5['error'], inputs=self.layer4['output'])) * learning_rate\n",
    "        self.layer5['param'][:, :-1] += layer5_delta\n",
    "        self.layer5['param'][:, -1] += learning_rate * self.layer5['error']  # updating bias\n",
    "\n",
    "    @staticmethod\n",
    "    def loss_function(output, expected):\n",
    "        return np.sum((expected - output) ** 2)\n",
    "\n",
    "    def train_sample(self, sample, learning_rate):\n",
    "        self.input = sample[:-1]\n",
    "        y = sample[-1]\n",
    "        self.expected = np.zeros(2)\n",
    "        self.expected[1] = y == 1\n",
    "        self.expected[0] = y == 0\n",
    "        output = self.forward_propagate()\n",
    "        y_predict = int(output[1] > output[0])\n",
    "        self.backward_propagate()\n",
    "        self.update_param(learning_rate)\n",
    "        loss = self.loss_function(output, self.expected)\n",
    "        return loss, y_predict\n",
    "\n",
    "    def train_in_epoch(self, epoch_num, x, y, learning_rate):\n",
    "        reshaped_x = self.reshape_x(x)\n",
    "\n",
    "        indexes = np.arange(reshaped_x.shape[0])\n",
    "        np.random.shuffle(indexes)    # without shuffle last item are in order and the last zeros really effect finall output, like the last output would always be zeros\n",
    "\n",
    "        samples = np.zeros((reshaped_x.shape[0], reshaped_x.shape[1] + 1))\n",
    "        samples[:, :-1] = reshaped_x[indexes]\n",
    "        samples[:, -1] = y[indexes]\n",
    "\n",
    "        output = np.apply_along_axis(self.train_sample, 1, samples, learning_rate)\n",
    "        loss = np.sum(output[:, 0])\n",
    "        predicts = np.int32(output[:, 1])\n",
    "        # print(np.reshape(np.vstack(predicts), len(predicts)))\n",
    "        # print(f'epoch {epoch_num}, cost {loss}')\n",
    "        return loss\n",
    "\n",
    "    def train(self, x, y, learning_rate, n_epoch):\n",
    "        vf = np.vectorize(self.train_in_epoch, excluded=['x', 'y'])\n",
    "        losses = vf(epoch_num=np.arange(n_epoch - 1), x=x, y=y, learning_rate=learning_rate)\n",
    "        fig, ax = plt.subplots(figsize=(10,6))\n",
    "        plt.bar(np.arange(len(losses)), losses)\n",
    "        plt.xticks(np.arange(len(losses)), np.arange(len(losses)))\n",
    "        ax.set_title('Feagure 1: cost over iter')\n",
    "        plt.show()\n",
    "\n",
    "\n",
    "    def predict_sample(self, sample):\n",
    "        self.input = sample\n",
    "        output = self.forward_propagate()\n",
    "        predicts = int(output[1] > output[0])\n",
    "        return predicts\n",
    "\n",
    "    def predict(self, x):\n",
    "        reshaped_x = self.reshape_x(x)\n",
    "        result = np.apply_along_axis(self.predict_sample, 1, reshaped_x)\n",
    "        return result\n",
    "\n",
    "    @staticmethod\n",
    "    def reshape_x(x):\n",
    "        first_dim = x.shape[0]\n",
    "        other_dim = int(x.size / first_dim)\n",
    "        return np.reshape(x, (first_dim, other_dim))"
   ]
  },
  {
   "cell_type": "markdown",
   "metadata": {},
   "source": [
    "خیلی مشابه به لاجستیک رگرشن عمل میکنیم و همونجوری پارام داریم و گرادیانت رو حساب میکنیم و با پارامتر هامون جمع میکنیم\n",
    "\n",
    "در عملیات ترینمون اول فوروارد میکنیم یعنی از لایه اول شروع میکنیم خروجی های هر لایه رو جنریت میکنیم و میریم لایه بعد، بعدش بکوارد پروپگیت که گرادیانت هر لایه به کمک گرادیانت لایه بعدش حساب میشه و همینجور اررور پروپگیت میشه تا لایه اول\n",
    "\n",
    "و در نهایت پارامتر های هر لایه رو به علاوه ی مقدار دلتایی میکنیم که به دست آوردیم\n",
    "\n",
    "فرآیند ترین هم عملا همون فوروارده فقط در لایه آخر که دوتا نود داره بر اساس اینکه کدوم ماکسیمم مقدار رو برگردونده کتگوری رو انتخاب میکنه"
   ]
  },
  {
   "cell_type": "code",
   "execution_count": 13,
   "metadata": {},
   "outputs": [
    {
     "name": "stdout",
     "output_type": "stream",
     "text": [
      "epoch 0, cost 98.47269732743926\n",
      "epoch 0, cost 91.06286393067563\n",
      "epoch 1, cost 82.91750291375516\n",
      "epoch 2, cost 69.61092921084838\n",
      "epoch 3, cost 51.616726289591654\n",
      "epoch 4, cost 34.10936757122494\n",
      "epoch 5, cost 25.49828309037448\n",
      "epoch 6, cost 18.470442877025746\n",
      "epoch 7, cost 9.462471825147166\n",
      "epoch 8, cost 4.801807740413623\n"
     ]
    },
    {
     "data": {
      "image/png": "[encoded data removed]",
      "text/plain": [
       "<Figure size 720x432 with 1 Axes>"
      ]
     },
     "metadata": {
      "needs_background": "light"
     },
     "output_type": "display_data"
    }
   ],
   "source": [
    "nn = NeuralNetwork(3*64*64, 64*32, 32*8, 16*4, 8)\n",
    "nn.train(train_set_x, train_set_y, 0.1, 10)"
   ]
  },
  {
   "cell_type": "markdown",
   "metadata": {},
   "source": [
    "ما در اینجا بچ سایز رو ۱ گرفتیم و ترین روی هر یه دونه داده صورت میگیره، وقتی بچ سایز خیلی کوچیک باشه مثل اینجا باید لرنینگ ریت رو بیاریم پاییم چون نمیخوایم داده های آخر همیشه تاثیر زیادی روی مدل داشته باشن و اون رو بایاس کنن داده هارو هم باید شافل کنیم که باز هم داده های آخرمون توی هر اپوک مشخص نباشن و مدلمون بهتر ترین بشه\n",
    "\n",
    "همونطور که از نمودار لاس معلومه در طول ایتریشن های مختلف مقدار لاس همواره در حال پایین اومدنه، بنابراین با افزایش تعداد اپوک ها حتی میتونیم لاس رو از اینی که هست هم پایین تر بیاریم البته اینکار فرآیند رو زمان بر میکنه و همچنین باعث اورفیت میشه\n",
    "\n",
    "گاهی اوقات لاس بین ایتریشن ها بالا و پایین میشه اما روند کلیش نزولیه البته در این حالت خاص رخ نداده ولی اگه اپوک ها رو بیشتر کنیم این بالا و پایین رفتن ها رو میتونیم ببینیم، دلیل این بالا و پایین رفتن ها به خاطر کوچیک بودن بچ سایز و همچنین شافل کردنشونه، بعضی وقت ها این شافل باعث میشه که ترین هر سمپل جوری باشه که لاس برای سمپل بعد ماکسیمم بشه، ولی خوب روند کلی رو وقتی در نظر بگیریم لاس روندش نزولیه\n",
    "\n",
    "گاها لاس هامون روی یک مقدار خاص مینیمم میشن و با زیاد کردن تعداد اپوک نمیتونیم لاس رو از او ن مقدار کاهش بدیم که البته در این حالت با این تعداد لاس محدود قابل مشاهده نیست این اتفاق\n"
   ]
  },
  {
   "cell_type": "code",
   "execution_count": 14,
   "metadata": {},
   "outputs": [
    {
     "name": "stdout",
     "output_type": "stream",
     "text": [
      "accuracy: 100.0%\n",
      "cat0 --> recall: 100.0%  precision: 100.0%\n",
      "cat1 --> recall: 100.0%  precision: 100.0%\n",
      "accuracy: 52.0%\n",
      "cat0 --> recall: 82.35294117647058%  precision: 40.0%\n",
      "cat1 --> recall: 36.36363636363637%  precision: 80.0%\n"
     ]
    }
   ],
   "source": [
    "print_metrics(train_set_y, nn.predict(train_set_x))\n",
    "print_metrics(test_set_y, nn.predict(test_set_x))"
   ]
  },
  {
   "cell_type": "markdown",
   "metadata": {},
   "source": [
    "در گرید سرچ ما یه سری مقدار برای هایپر پارامتر های مختلفمون انتخاب میکنیم مثلا برای لرنینگ ریت مقادیر 0.1, 0.07, 0.05, 0.02 انتخاب میشه و برای تعداد ایتریشن ها مقادیر 3, 5, 7 و 10 انتخاب میشه\n",
    "\n",
    "گرید سرچ بر اساس این مقادیری که ایجاد شده تمام ترکیب های مختلف اونها رو میسازه و امتحان میکنه و بهترین ترکیب رو برمیگردونه مثلا در این جا ۱۶ حالت ترکیب مختلف وجود داره که گرید سرچ تمام اون حالت ها رو امتحان میکنه و بر اساس تابعی که بهش دادیم که در اینجا اکورسی روی داده های تستمون مد نظره بهترین ترکیب رو برمیگردونه، فرآیند خیلی زمان بره ولی خوب نتیجه ی خیلی خوبی میتونه بده\n",
    "\n",
    "در رندوم سرچ هم دامنه هایپر پارامتر ها رو میتونیم انتخاب میکنیم (گسسته یا پیوسته) و تعداد سرچ رو مشخص میکنیم، این الگوریتم از تمام ترکیب های ممکنه تعدادی که مشخص شده رو به صورت رندوم انتخاب میکنه و بهترین رو برمیگردونه، زمان کمتری نسبت به گرید نیاز داره در عین حال میتونه جواب قابل قبولی هم بده\n",
    "\n"
   ]
  },
  {
   "cell_type": "code",
   "execution_count": 6,
   "metadata": {},
   "outputs": [
    {
     "name": "stdout",
     "output_type": "stream",
     "text": [
      "------------------ lr 0.07 epoch 7.0 ------------------\n"
     ]
    },
    {
     "data": {
      "image/png": "[encoded data removed]",
      "text/plain": [
       "<Figure size 720x432 with 1 Axes>"
      ]
     },
     "metadata": {
      "needs_background": "light"
     },
     "output_type": "display_data"
    },
    {
     "name": "stdout",
     "output_type": "stream",
     "text": [
      "0.54\n",
      "------------------ lr 0.02 epoch 7.0 ------------------\n"
     ]
    },
    {
     "data": {
      "image/png": "[encoded data removed]",
      "text/plain": [
       "<Figure size 720x432 with 1 Axes>"
      ]
     },
     "metadata": {
      "needs_background": "light"
     },
     "output_type": "display_data"
    },
    {
     "name": "stdout",
     "output_type": "stream",
     "text": [
      "0.34\n",
      "------------------ lr 0.07 epoch 10.0 ------------------\n"
     ]
    },
    {
     "data": {
      "image/png": "[encoded data removed]",
      "text/plain": [
       "<Figure size 720x432 with 1 Axes>"
      ]
     },
     "metadata": {
      "needs_background": "light"
     },
     "output_type": "display_data"
    },
    {
     "name": "stdout",
     "output_type": "stream",
     "text": [
      "0.56\n",
      "------------------ lr 0.02 epoch 10.0 ------------------\n"
     ]
    },
    {
     "data": {
      "image/png": "[encoded data removed]",
      "text/plain": [
       "<Figure size 720x432 with 1 Axes>"
      ]
     },
     "metadata": {
      "needs_background": "light"
     },
     "output_type": "display_data"
    },
    {
     "name": "stdout",
     "output_type": "stream",
     "text": [
      "0.34\n",
      "------------------ lr 0.05 epoch 5.0 ------------------\n"
     ]
    },
    {
     "data": {
      "image/png": "[encoded data removed]",
      "text/plain": [
       "<Figure size 720x432 with 1 Axes>"
      ]
     },
     "metadata": {
      "needs_background": "light"
     },
     "output_type": "display_data"
    },
    {
     "name": "stdout",
     "output_type": "stream",
     "text": [
      "0.34\n",
      "best choise:\n",
      "lr=0.07, epoch=10.0\n"
     ]
    }
   ],
   "source": [
    "learning_rates = [0.1, 0.07, 0.05, 0.02]\n",
    "epoch_nums = [10, 7, 5]\n",
    "\n",
    "\n",
    "parameter_comb = np.stack(np.meshgrid(learning_rates, epoch_nums), -1).reshape(-1, 2)\n",
    "random_combination = parameter_comb[np.random.choice(np.arange(len(parameter_comb)), 5)]\n",
    "def cost_function(parameter):\n",
    "    learning_rate, epoch = parameter\n",
    "    print(f'------------------ lr {learning_rate} epoch {epoch} ------------------')\n",
    "    nn = NeuralNetwork(3*64*64, 64*32, 32*8, 16*4, 8)\n",
    "    nn.train(train_set_x, train_set_y, learning_rate, epoch)\n",
    "    predict = nn.predict(test_set_x)\n",
    "    test_accuracy = ((test_set_y - predict)==0).sum() / len(predict)\n",
    "    print(test_accuracy)\n",
    "    return test_accuracy\n",
    "\n",
    "accuracies = np.apply_along_axis(cost_function, 1, random_combination)\n",
    "best_lr, best_epoch = random_combination[np.where(accuracies==np.max(accuracies))[0][0]]\n",
    "print('best choise:')\n",
    "print(f'lr={best_lr}, epoch={best_epoch}')"
   ]
  },
  {
   "cell_type": "markdown",
   "metadata": {},
   "source": [
    "مقدار دهی رندوم وزن ها در شبکه عصبی\n",
    "\n",
    "ما توی شبکه عصبی نیاز داریم وزن ها رو رندوم مقدار دهی کنیم چون اگه به جای مقدار رندوم از یک مقدار ثابت استفاده کنیم اون وقت تاثیر هر کدوم از سمپل ها روی مدل زیاد میشه مثلا سمپل اول وزن ها رو کاملا در مسیر خودش تغییر میده، این اتفاق باعث میشه که اکثریت سمپل هامون که از کتگوری صفر هستن روی مدل بیشترین تاثیر بزارن و مدلمون بعد ترین شدن پردیکتش همیشه کت صفر میمونه\n",
    "\n",
    "یه مشکل دیگه هم که وزن اولیه ثابت داره اینه که همیشه مدلمون به سمت یه مینیموم محلی خاص میره در حالی که وزن اولیه رندوم میتونه ما رو به مینینموم های محلی مختلف برسونه\n"
   ]
  },
  {
   "cell_type": "markdown",
   "metadata": {},
   "source": [
    "انواع اکتیویشن فانکشن ها\n",
    "\n",
    "باینری: از یک ترشولدی به بعد مقدار ۱ میده و قبلش مقدار صفر مشکلاتش یکی فقط امکان کلاسیفیکیشن برای دوتا کتگوری رو داره دوم گرادیانتش همیشه صفره و آپدیت کردن وزن ها رو مشکل میکنه\n",
    "\n",
    "خطی: این فانکشن هم فانکشن خطی هست که خود مقدار ورودی رو داره خروجی میده، مشتقش ثابته در نتیجه امکان بک پروپگیت نمیده، و اینکه وجود چند لایه عملا ب منطق میشه و همیشه لایه آخر خروجی خطی نسبت به ورودی داره\n",
    "\n",
    "سیگمویت: غیر خطیه در نتیجه مشکلات تابع خطی رو نداره، اجازه ی جامپ به مقادیر خیلی زیاد رو نمیده، مقدار خروجی اش در بازه ی مشخصی قرار داره و برای مقادیر بزرگتر از ۲ پردیکشن مشخص میشه و نزدیک به ۱ میشه، بدی هاش هم اینکه برای مقادیر خیلی بزرگ یا خیلی کوچیک مشتقش خیلی کم میشه و در نتیجه تغییری در آپدیت وزن ها نمیبینیم، خروجی منفی نمیده و هزینه بره\n",
    "\n",
    "تانژانت هایپربولیک: نسبت به سیگمویت خروجیش به مرکز صفره و مقادیر منفی هم میده بقیه ویژگی هاش مثل سیگمویته\n",
    "\n",
    "رلو: برای مقادیر بزرگتر از صفر خطی و کمتر از صفر برابر با صفره، خوبیش نسبت به سیگمویت و تاینژانت هایپربولیک اینه که خیلی سریع میتونه رشد کنه چون گرادیانتش برای مقادیر خیلی بالا کم نیست و اجازه ی تغییر رو میده، به همین خاطر محاسباتش هم خیلی افیشنت تره از مشکلاتش هم اینه که برای مقادیری که به صفر میل میکنن یا منفی هستن مقدار گراد صفر میشه و  عملا نمیشه بک پروپگیت رو انجام داد\n",
    "\n",
    "لیکی رلو، پارامتریک رلو و گاوس هم بسیار شبیه رلو هستن ولی هر کدومشون سعی میکنن مشکلاتی از رلو رو حل کنن که البته در کنارش ممکنه مشکلات جدید رو هم اضافه کنن\n",
    "\n",
    "در نهایت خیلی به مدل ورودی های نورن و خروجی که دوست داریم ازش بگیریم ربط داره که از چه اکتیویشن فانکشن استفاده کنیم"
   ]
  },
  {
   "cell_type": "markdown",
   "metadata": {},
   "source": [
    "## scikit learn"
   ]
  },
  {
   "cell_type": "code",
   "execution_count": 28,
   "metadata": {},
   "outputs": [
    {
     "name": "stdout",
     "output_type": "stream",
     "text": [
      "accuracy: 100.0%\n",
      "cat0 --> recall: 100.0%  precision: 100.0%\n",
      "cat1 --> recall: 100.0%  precision: 100.0%\n",
      "accuracy: 70.0%\n",
      "cat0 --> recall: 88.23529411764706%  precision: 53.57142857142857%\n",
      "cat1 --> recall: 60.60606060606061%  precision: 90.9090909090909%\n"
     ]
    }
   ],
   "source": [
    "from sklearn.ensemble import RandomForestClassifier\n",
    "\n",
    "reshaped_x = NeuralNetwork.reshape_x(train_set_x)\n",
    "reshaped_test = NeuralNetwork.reshape_x(test_set_x)\n",
    "\n",
    "model = RandomForestClassifier(max_depth=8, n_estimators=50, max_features=0.9, min_samples_split=20)\n",
    "model.fit(reshaped_x, train_set_y)\n",
    "predict = model.predict(reshaped_x)\n",
    "print_metrics(train_set_y, predict)\n",
    "predict = model.predict(reshaped_test)\n",
    "print_metrics(test_set_y, predict)"
   ]
  },
  {
   "cell_type": "code",
   "execution_count": 45,
   "metadata": {},
   "outputs": [
    {
     "data": {
      "text/plain": [
       "0.25769303296139096"
      ]
     },
     "execution_count": 45,
     "metadata": {},
     "output_type": "execute_result"
    }
   ],
   "source": [
    "from sklearn.metrics import log_loss\n",
    "\n",
    "log_loss(train_set_y, model.predict_proba(reshaped_x))"
   ]
  },
  {
   "cell_type": "markdown",
   "metadata": {},
   "source": [
    "دلیل انتخاب\n",
    "\n",
    "مدل لاجستیک رگرسیون به دلیل خطی بودن نمی تونه به خوبی تسک ایمیج کلاسیفیکیشن رو انجام بده، چرا که معمولا پیکسل ها کنار هم معنا پیدا میکنن و در فضای خطی به خوبی نمیشه این ارتباط رو تاثیر داد\n",
    "\n",
    "مدل همسایه هم یه مشکلی که داره نسبت به اسکیل عکس و یا روتیت اش حساسه، مثلا اگه عکس یک مربع رو ترین کنیم روتیت شده ی این عکس کلی با عکس اصلی میتونه فاصله داشته باشه در نتیجه اینجا شاید خوب عمل نکنه\n",
    "\n",
    "بهترین مدل دسیژن تریه که مشکلات دو تا مدل قبل رو نداره، من در اینجا از رندوم فورست استفاده کردم که مجموعه از درخت ها رو ترین میکنه و این کمک میکنه بتونیم الگو های متفاوت توی دیتامون رو ترین کنیم"
   ]
  },
  {
   "cell_type": "markdown",
   "metadata": {},
   "source": [
    "چندتا از هایپر پارامتر های رندوم فورست \n",
    "\n",
    "مکس دپس که مکس دپس درخت هامون رو ست میکنه، کم گذاشتنش میتونه کمک کنه اورفیت ندیم اینجا هم ۸ گذاشتم من\n",
    "\n",
    "تعداد استیمیتور ها که تعداد درخت هایی که ترین میشن رو نشون میده هر چی بیشتر باشه الگو های بیشتری از دیتامون رو میتونیم در بیاریم و اورفیت رو هم میتونیم کم کنیم اینجا ۵۰ گذاشتیم\n",
    "\n",
    "مکس فیچرز تعد فیچر هایی که به هر درخت داده میشه، اگه به همه ی درخت هامون تمامی فیچر هامون رو بدیم که درخت هامون یه شکل ترین میشن ولی اگه تعداد کمتری فیچر به هر درخت بدیم هر کدوم از درخت هامون میتونن الگوی بین اون فیچر ها رو پیدا کنن، اورفیت کم میشه و مدل کلیمون هم میتونه الگو های پیچیده تری رو در بیاری این جا من ۹۰ درصد فیچر گذاشتم چون که خیلی وجود پیکسل ها کنار هم مهمه و شاید جدا کردنش به اجزای کوچک تر زیاد خوب نباشه مخصوصا اگه این اجزا بهم متصل نباشن\n",
    "\n",
    "تعداد سمپل های اسپلیت تعیین میکنه حداقل چند تا سمپل باید وجود داشته باشه تا یه نود بشکنه، کم کردنش باعث اورفیت و البته سنگین شدن عملیات ترین میشه، بیشتر کردنش هم برعکس عمل میکنه اینجا ۲۰ گذاشتیم\n",
    "\n",
    "مکس سمپلز هم داره که تعیین میکنه چند درصد از سمپل ها به هر درخت برسه که من اینجا ست نکردم"
   ]
  },
  {
   "cell_type": "markdown",
   "metadata": {},
   "source": [
    "## جمع بندی"
   ]
  },
  {
   "cell_type": "markdown",
   "metadata": {},
   "source": [
    "|            | لاجستیک | شبکه عصبی  | فارست |\n",
    "|------------|-------|------------|--------|\n",
    "|  accurace  |  70   |     52     |   74   |\n",
    "|  recall 0  |  88   |     82     |   64   |\n",
    "|  recall 1  |  60   |     36     |   78   |\n",
    "| precision 0|  53   |     40     |   61   |\n",
    "| precision 1|  90   |     80     |   81   |\n",
    "|   loss     | 0.25  |     26     |  4.8   |"
   ]
  },
  {
   "cell_type": "markdown",
   "metadata": {},
   "source": [
    "ما توی مدل لاجستیک درصد ۷۴ برای این مسئله گرفتیم که خیلی درصد خوبی بود، این اسکور حتی از رندوم فورست هم بهتر بود که خوب فکر میکنم برای اینه که مقدار ۷۴ واقعا بهتری مقداری که میشه گرفت و خیلی خوب تیون شده در حالی که تعداد هایپر پارامتر های رندوم فورست خیلی بیشتر بود و خوب پیدا کردن مقدار تیون شدشون یکم سخته اگه به درصد های ترینمون در رندوم فارست و لاجستیک نگاه کنیم میشه فهمید رندوم فارست کمی اورفیت داره جای بهتر شدن داره\n",
    "\n",
    "\n",
    "در نورال نتورک زیاد درصد خوبی نگرفتیم، من حس میکنم اگه قابلیت های بیشتر و بهتری به نورال نتورکمون میدادیم مثل بچ بچ کردن داده و ترین کردن روی بچ ها، استفاده از ممنتوم و دکوی وزن استفاده میکردیم خیلی نتیجه بهتری میگرفتیم، همینطور که میبینیم این شبکه مون دچار اورفیت شده و تفاوت درصد بین ترین و تست زیاده که با تیون کردن پارامتر ها احتمالا بشه درصد بهتری در تست گرفت اما به دلیل زمان بر بودن فرآیند ترین این مدل (چون روی سی پی یو بود) زمان کافی برای تیون کردنش نداشتم.\n",
    "در نهایت به نظرم شبکه عصبیمون هنوز جای کار داشت و میتونیم با کار کردن روش خیلی نتایج بهتری ازش گرفت\n",
    "\n",
    "در نهایت مدل رندوم فارست که اون هم اسکور خیلی خوبی گرفت با وجود اینکه نسبت به شبکه عصبی زیاد مدلی نیست که توی ایمیج کلاسیفیکیشن استفاده میشه"
   ]
  },
  {
   "cell_type": "markdown",
   "metadata": {},
   "source": [
    "## منابع\n",
    "[1.](https://towardsdatascience.com/building-a-logistic-regression-in-python-301d27367c24)\n",
    "\n",
    "[2.](https://machinelearningmastery.com/implement-backpropagation-algorithm-scratch-python/)\n",
    "\n",
    "[3.](https://missinglink.ai/guides/neural-network-concepts/7-types-neural-network-activation-functions-right/)"
   ]
  }
 ],
 "metadata": {
  "kernelspec": {
   "display_name": "Python 3",
   "language": "python",
   "name": "python3"
  },
  "language_info": {
   "codemirror_mode": {
    "name": "ipython",
    "version": 3
   },
   "file_extension": ".py",
   "mimetype": "text/x-python",
   "name": "python",
   "nbconvert_exporter": "python",
   "pygments_lexer": "ipython3",
   "version": "3.7.8"
  }
 },
 "nbformat": 4,
 "nbformat_minor": 4
}
